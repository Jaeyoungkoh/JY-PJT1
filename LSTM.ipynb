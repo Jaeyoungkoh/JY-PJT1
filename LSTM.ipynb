{
 "cells": [
  {
   "cell_type": "code",
   "execution_count": 21,
   "id": "801a8dd8",
   "metadata": {},
   "outputs": [
    {
     "name": "stdout",
     "output_type": "stream",
     "text": [
      "1.13.0\n",
      "%pylab is deprecated, use %matplotlib inline and import the required libraries.\n",
      "Populating the interactive namespace from numpy and matplotlib\n"
     ]
    }
   ],
   "source": [
    "\n",
    "import pandas as pd\n",
    "import pandas_datareader.data as pdr\n",
    "import datetime\n",
    "import torch\n",
    "import torch.nn as nn\n",
    "from torch.utils.data import Dataset, DataLoader\n",
    "import torch.optim as optim\n",
    "import numpy as np\n",
    "import argparse\n",
    "from copy import deepcopy # Add Deepcopy for args\n",
    "from sklearn.metrics import mean_absolute_error\n",
    "import yfinance as yf\n",
    "import seaborn as sns \n",
    "import matplotlib.pyplot as plt\n",
    "\n",
    "print(torch.__version__)\n",
    "%matplotlib inline\n",
    "%pylab inline\n",
    "pylab.rcParams['figure.figsize'] = (15, 9)"
   ]
  },
  {
   "cell_type": "code",
   "execution_count": null,
   "id": "0356a762",
   "metadata": {},
   "outputs": [
    {
     "name": "stderr",
     "output_type": "stream",
     "text": [
      "[*********************100%***********************]  1 of 1 completed"
     ]
    },
    {
     "name": "stdout",
     "output_type": "stream",
     "text": [
      "Price             Close         High          Low         Open  Volume\n",
      "Date                                                                  \n",
      "2000-12-01  1851.257202  1851.257202  1792.016972  1847.554688  222800\n",
      "2000-12-04  1829.041992  1895.687247  1814.231936  1851.257077  196100\n",
      "2000-12-05  1840.149658  1851.257201  1817.934572  1817.934572  158800\n",
      "2000-12-06  1843.852295  1910.497559  1843.852295  1873.472412  287600\n",
      "2000-12-07  1825.339722  1843.852295  1817.934692  1829.042236  147900\n",
      "Index(['Close', 'High', 'Low', 'Open', 'Volume'], dtype='object', name='Price')\n"
     ]
    },
    {
     "name": "stderr",
     "output_type": "stream",
     "text": [
      "\n"
     ]
    }
   ],
   "source": [
    "# We will look at stock prices over the past year, starting at January 1, 2016\n",
    "start = (2000, 12, 1)\n",
    "start = datetime.datetime(*start) # * 튜플에서 값을 \"하나씩 꺼내서\" 전달함\n",
    "end = datetime.date.today()\n",
    "\n",
    "google = yf.download('028050.KS', start, end)\n",
    "if isinstance(google.columns, pd.MultiIndex):\n",
    "    google.columns = google.columns.droplevel(1) # 두번째 Column index level 삭제\n",
    "\n",
    "print(google.head())\n",
    "print(google.columns)"
   ]
  },
  {
   "cell_type": "code",
   "execution_count": null,
   "id": "4324079c",
   "metadata": {},
   "outputs": [],
   "source": [
    "print(google.columns.tolist())"
   ]
  },
  {
   "cell_type": "code",
   "execution_count": null,
   "id": "74c67dd9",
   "metadata": {},
   "outputs": [],
   "source": [
    "google.Low.plot(grid=True)\n",
    "google.tail()\n",
    "print(google.isna().sum())"
   ]
  },
  {
   "cell_type": "code",
   "execution_count": null,
   "id": "e90ee573",
   "metadata": {},
   "outputs": [],
   "source": [
    "# Dataset : i번째 record 값을 주는 역할\n",
    "class StockDataset(Dataset):\n",
    "    \n",
    "    def __init__(self, symbol, x_frames, y_frames, start, end):\n",
    "        \n",
    "        self.symbol = symbol\n",
    "        self.x_frames = x_frames\n",
    "        self.y_frames = y_frames\n",
    "        \n",
    "        self.start = datetime.datetime(*start)\n",
    "        self.end = datetime.datetime(*end)\n",
    "\n",
    "        self.data = yf.download('028050.KS', start, end)\n",
    "        print(self.data.isna().sum())\n",
    "        \n",
    "    def __len__(self):\n",
    "        return len(self.data) - (self.x_frames + self.y_frames) + 1\n",
    "    \n",
    "    def __getitem__(self, idx):\n",
    "        idx += self.x_frames\n",
    "        data = self.data.iloc[idx-self.x_frames:idx+self.y_frames]\n",
    "        data = data[['High', 'Low', 'Open', 'Close', 'Volume']]\n",
    "        \n",
    "        # (log(x+1) - log(x_ref+1)): 기준 시점(x_frames-1) 대비 변화율을 의미.\n",
    "        data = data.apply(lambda x: np.log(x+1) - np.log(x[self.x_frames-1]+1))\n",
    "        data = data.values\n",
    "        X = data[:self.x_frames] # 자른 앞쪽 : X\n",
    "        y = data[self.x_frames:] # 자른 뒤쪽 : y\n",
    "        \n",
    "        return X, y\n",
    "        "
   ]
  },
  {
   "cell_type": "code",
   "execution_count": null,
   "id": "c9f715b0",
   "metadata": {},
   "outputs": [],
   "source": [
    "class LSTM(nn.Module):\n",
    "\n",
    "    def __init__(self, input_dim, hidden_dim, output_dim, num_layers, batch_size, dropout, use_bn):\n",
    "        super(LSTM, self).__init__()\n",
    "\n",
    "        self.input_dim = input_dim \n",
    "        self.hidden_dim = hidden_dim\n",
    "        self.output_dim = output_dim\n",
    "        self.num_layers = num_layers\n",
    "\n",
    "        self.batch_size = batch_size\n",
    "        self.dropout = dropout\n",
    "        self.use_bn = use_bn \n",
    "        \n",
    "        self.lstm = nn.LSTM(self.input_dim, self.hidden_dim, self.num_layers)\n",
    "        self.hidden = self.init_hidden()\n",
    "        self.regressor = self.make_regressor()\n",
    "\n",
    "        def init_hidden(self):\n",
    "            return (torch.zeros(self.num_layers, self.batch_size, self.hidden_dim),\n",
    "                    torch.zeros(self.num_layers, self.batch_size, self.hidden_dim))\n",
    "        \n",
    "        def make_regressor(self):\n",
    "            layers = []\n",
    "            if self.use_bn:\n",
    "                layers.append(nn.BatchNorm1d(self.hidden_dim))\n",
    "            layers.append(nn.Dropout(self.dropout))\n",
    "\n",
    "            layers.append(nn.Linear(self.hidden_dim, self.hidden_dim // 2))\n",
    "            layers.append(nn.ReLU())\n",
    "            layers.append(nn.Linear(self.hidden_dim // 2, self.output_dim))\n",
    "            regressor = nn.Sequential(*layers)\n",
    "            return regressor\n",
    "        \n",
    "        def forward(self, x):\n",
    "            lstm_out, self.hidden = self.lstm(x, self.hidden)\n",
    "            y_pred = self.regressor(lstm_out[-1].view(self.batch_size, -1))\n",
    "            return y_pred\n",
    "\n",
    "\n",
    "# x : [seq_len(n), batch_size(10), 5] 최근 n일\n",
    "# y : [batch_size(10), m, 1] 이후 m일\n",
    "\n"
   ]
  },
  {
   "cell_type": "code",
   "execution_count": null,
   "id": "8c9c8ea2",
   "metadata": {},
   "outputs": [],
   "source": []
  }
 ],
 "metadata": {
  "kernelspec": {
   "display_name": "torch",
   "language": "python",
   "name": "python3"
  },
  "language_info": {
   "codemirror_mode": {
    "name": "ipython",
    "version": 3
   },
   "file_extension": ".py",
   "mimetype": "text/x-python",
   "name": "python",
   "nbconvert_exporter": "python",
   "pygments_lexer": "ipython3",
   "version": "3.10.16"
  }
 },
 "nbformat": 4,
 "nbformat_minor": 5
}
